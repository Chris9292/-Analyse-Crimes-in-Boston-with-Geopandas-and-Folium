{
 "cells": [
  {
   "cell_type": "markdown",
   "metadata": {},
   "source": [
    "Note: I used data from [boston police districts](https://www.kaggle.com/christotk/boston-police-districts) in order to process with <i>geopandas</i>"
   ]
  },
  {
   "cell_type": "markdown",
   "metadata": {},
   "source": [
    "<h3>Import libraries and load data</h3>"
   ]
  },
  {
   "cell_type": "code",
   "execution_count": 1,
   "metadata": {},
   "outputs": [
    {
     "ename": "ModuleNotFoundError",
     "evalue": "No module named 'geopandas'",
     "output_type": "error",
     "traceback": [
      "\u001b[1;31m---------------------------------------------------------------------------\u001b[0m",
      "\u001b[1;31mModuleNotFoundError\u001b[0m                       Traceback (most recent call last)",
      "\u001b[1;32m<ipython-input-1-ac4d8c554071>\u001b[0m in \u001b[0;36m<module>\u001b[1;34m\u001b[0m\n\u001b[0;32m      1\u001b[0m \u001b[1;32mimport\u001b[0m \u001b[0mpandas\u001b[0m \u001b[1;32mas\u001b[0m \u001b[0mpd\u001b[0m \u001b[1;31m# data processing\u001b[0m\u001b[1;33m\u001b[0m\u001b[1;33m\u001b[0m\u001b[0m\n\u001b[1;32m----> 2\u001b[1;33m \u001b[1;32mimport\u001b[0m \u001b[0mgeopandas\u001b[0m \u001b[1;32mas\u001b[0m \u001b[0mgpd\u001b[0m \u001b[1;31m# geospatial data processing\u001b[0m\u001b[1;33m\u001b[0m\u001b[1;33m\u001b[0m\u001b[0m\n\u001b[0m\u001b[0;32m      3\u001b[0m \u001b[1;32mimport\u001b[0m \u001b[0mnumpy\u001b[0m \u001b[1;32mas\u001b[0m \u001b[0mnp\u001b[0m \u001b[1;31m# linear algebra\u001b[0m\u001b[1;33m\u001b[0m\u001b[1;33m\u001b[0m\u001b[0m\n\u001b[0;32m      4\u001b[0m \u001b[1;32mimport\u001b[0m \u001b[0mfolium\u001b[0m \u001b[1;31m# mapping\u001b[0m\u001b[1;33m\u001b[0m\u001b[1;33m\u001b[0m\u001b[0m\n\u001b[0;32m      5\u001b[0m \u001b[1;32mfrom\u001b[0m \u001b[0mfolium\u001b[0m\u001b[1;33m.\u001b[0m\u001b[0mplugins\u001b[0m \u001b[1;32mimport\u001b[0m \u001b[0mHeatMap\u001b[0m\u001b[1;33m\u001b[0m\u001b[1;33m\u001b[0m\u001b[0m\n",
      "\u001b[1;31mModuleNotFoundError\u001b[0m: No module named 'geopandas'"
     ]
    }
   ],
   "source": [
    "import pandas as pd # data processing\n",
    "import geopandas as gpd # geospatial data processing\n",
    "import numpy as np # linear algebra\n",
    "import folium # mapping\n",
    "from folium.plugins import HeatMap\n",
    "import seaborn as sns # visualization\n",
    "import matplotlib.pyplot as plt # visualization\n",
    "%matplotlib inline\n",
    "\n",
    "# read crimes file\n",
    "crimes = pd.read_csv('../input/crimes-in-boston/crime.csv', encoding = 'latin')\n",
    "\n",
    "# read Police Districts shapefile with geopandas\n",
    "gdf = gpd.read_file('../input/boston-police-districts/police_districts/Police_Districts.shp')"
   ]
  },
  {
   "cell_type": "markdown",
   "metadata": {},
   "source": [
    "<h3>Explore the datasets</h3>"
   ]
  },
  {
   "cell_type": "code",
   "execution_count": null,
   "metadata": {},
   "outputs": [],
   "source": [
    "gdf"
   ]
  },
  {
   "cell_type": "code",
   "execution_count": null,
   "metadata": {},
   "outputs": [],
   "source": [
    "crimes.head()"
   ]
  },
  {
   "cell_type": "code",
   "execution_count": null,
   "metadata": {},
   "outputs": [],
   "source": [
    "crimes.shape"
   ]
  },
  {
   "cell_type": "code",
   "execution_count": null,
   "metadata": {},
   "outputs": [],
   "source": [
    "crimes.describe()"
   ]
  },
  {
   "cell_type": "markdown",
   "metadata": {},
   "source": [
    "check if we have missing data"
   ]
  },
  {
   "cell_type": "code",
   "execution_count": null,
   "metadata": {},
   "outputs": [],
   "source": [
    "crimes.isnull().sum()"
   ]
  },
  {
   "cell_type": "markdown",
   "metadata": {},
   "source": [
    "<h3>Plot spatial data</h3>"
   ]
  },
  {
   "cell_type": "code",
   "execution_count": null,
   "metadata": {},
   "outputs": [],
   "source": [
    "gdf.plot()\n",
    "plt.tight_layout()"
   ]
  },
  {
   "cell_type": "markdown",
   "metadata": {},
   "source": [
    "geopandas plots data from geometry column.\n",
    "\n",
    "we need to label each polygon/district. To do so we have to define a point within each polygon"
   ]
  },
  {
   "cell_type": "code",
   "execution_count": null,
   "metadata": {},
   "outputs": [],
   "source": [
    "gdf['point'] = gdf.representative_point() # this is a point guaranteed to be within each polygon\n",
    "\n",
    "# label_points - a GeoDataFrame used for labeling\n",
    "label_points = gdf.copy()\n",
    "label_points.set_geometry('point', inplace = True)\n",
    "\n",
    "# plot districts\n",
    "ax = gdf.plot(color = 'whitesmoke', figsize = (12,8), edgecolor = 'black', linewidth = 0.3)\n",
    "\n",
    "def add_label():\n",
    "    # add label for each polygon\n",
    "    for x, y, label in zip(label_points.geometry.x, label_points.geometry.y, label_points['DISTRICT']):\n",
    "        plt.text(x, y, label, fontsize = 10, fontweight = 'bold')\n",
    "\n",
    "add_label()\n",
    "plt.title('Boston police districts', fontsize = 16)\n",
    "plt.tight_layout()"
   ]
  },
  {
   "cell_type": "markdown",
   "metadata": {},
   "source": [
    "<h3>Analysis</h3>"
   ]
  },
  {
   "cell_type": "markdown",
   "metadata": {},
   "source": [
    "* What types of crimes are the most common?"
   ]
  },
  {
   "cell_type": "code",
   "execution_count": null,
   "metadata": {},
   "outputs": [],
   "source": [
    "most_common_crimes = pd.DataFrame({'Count': crimes.OFFENSE_CODE_GROUP.value_counts().sort_values(ascending = False).head(10)}) # top 10 most common crimes\n",
    "most_common_crimes"
   ]
  },
  {
   "cell_type": "code",
   "execution_count": null,
   "metadata": {},
   "outputs": [],
   "source": [
    "plt.figure(figsize = (20,12))\n",
    "sns.barplot(x = most_common_crimes.index, y = 'Count', data = most_common_crimes)\n",
    "plt.yticks((np.arange(5000, most_common_crimes['Count'].max(), 5000)))\n",
    "plt.ylabel(None)\n",
    "plt.tick_params(labelsize = 12)\n",
    "plt.xlabel('\\n Most common crime types', fontsize = 12)\n",
    "plt.title('Top 10 crimes in Boston', fontsize = 18)\n",
    "plt.tight_layout()"
   ]
  },
  {
   "cell_type": "markdown",
   "metadata": {},
   "source": [
    "* How is crime distributed in boston area? (most_common_crimes)"
   ]
  },
  {
   "cell_type": "markdown",
   "metadata": {},
   "source": [
    "folium HeatMap seems useful in this case"
   ]
  },
  {
   "cell_type": "code",
   "execution_count": null,
   "metadata": {},
   "outputs": [],
   "source": [
    "location_of_most_common_crimes = crimes[crimes.OFFENSE_CODE_GROUP.isin(most_common_crimes.index)].loc[:, ['Lat', 'Long']].dropna()\n",
    "\n",
    "my_map=folium.Map(location = [42.320,-71.05], #Initiate map on Boston city\n",
    "                  zoom_start = 11,\n",
    "                  min_zoom = 11\n",
    ")\n",
    "\n",
    "HeatMap(data=location_of_most_common_crimes.sample(10000), radius=16).add_to(my_map)\n",
    "\n",
    "my_map"
   ]
  },
  {
   "cell_type": "markdown",
   "metadata": {},
   "source": [
    "* How are crimes distributed amongst the districts?"
   ]
  },
  {
   "cell_type": "code",
   "execution_count": null,
   "metadata": {},
   "outputs": [],
   "source": [
    "districts = pd.DataFrame({'Count': crimes.DISTRICT.value_counts().sort_values(ascending = False)})\n",
    "districts"
   ]
  },
  {
   "cell_type": "code",
   "execution_count": null,
   "metadata": {},
   "outputs": [],
   "source": [
    "plt.figure(figsize = (12,8))\n",
    "sns.barplot(x = districts.index, y = 'Count', data = districts, palette = 'Reds_r')\n",
    "sns.lineplot(x = districts.index, y = districts['Count'].mean(), data = districts, label = 'mean', color = 'black') # plot mean value\n",
    "plt.title('Crimes per district in Boston', fontsize = 16)\n",
    "plt.ylabel(None)\n",
    "plt.xlabel('\\nDISTRICT')\n",
    "plt.yticks(np.arange(10000, 55000, 10000))\n",
    "plt.tick_params(labelsize = 12)\n",
    "plt.tight_layout()"
   ]
  },
  {
   "cell_type": "markdown",
   "metadata": {},
   "source": [
    "B2, C11, D4, A1, B3 have the highest crime rates.\n",
    "(Note that there are 1765 NaN values in DISTRICT column...)\n",
    "\n",
    "Let's visualize this with geopandas. "
   ]
  },
  {
   "cell_type": "code",
   "execution_count": null,
   "metadata": {},
   "outputs": [],
   "source": [
    "gdf['crimes'] = gdf.DISTRICT.map(districts['Count']) # use map function to match each district with its corresponding value\n",
    "ax = gdf.plot(column = gdf.crimes, cmap = 'Reds', legend = True, edgecolor = 'black', linewidth = 0.3, figsize = (12,8))\n",
    "add_label()\n",
    "plt.title('Crimes per district in Boston', fontsize = 16)\n",
    "plt.tight_layout()"
   ]
  },
  {
   "cell_type": "markdown",
   "metadata": {},
   "source": [
    "* What time during the day most crimes are being reported?"
   ]
  },
  {
   "cell_type": "code",
   "execution_count": null,
   "metadata": {},
   "outputs": [],
   "source": [
    "crimes_per_hour = pd.DataFrame({'Count': crimes['HOUR'].value_counts().sort_index()})\n",
    "crimes_per_hour"
   ]
  },
  {
   "cell_type": "code",
   "execution_count": null,
   "metadata": {},
   "outputs": [],
   "source": [
    "plt.figure(figsize = (12,8))\n",
    "sns.barplot(x = crimes_per_hour.index, y = crimes_per_hour['Count'], data = crimes_per_hour, color = '#7AD7F0')\n",
    "plt.ylabel(None)\n",
    "plt.xlabel(None)\n",
    "plt.yticks(np.arange(2500, 22000, 2500))\n",
    "plt.tick_params(labelsize = 12)\n",
    "plt.title('Boston crimes per hour', fontsize = 16)\n",
    "plt.tight_layout()"
   ]
  },
  {
   "cell_type": "markdown",
   "metadata": {},
   "source": [
    "The majority of crimes are being reported between 4PM and 7PM and the minority between 2AM and 6AM"
   ]
  },
  {
   "cell_type": "markdown",
   "metadata": {},
   "source": [
    "* How are crimes distributed during weeks?"
   ]
  },
  {
   "cell_type": "code",
   "execution_count": null,
   "metadata": {},
   "outputs": [],
   "source": [
    "labels = ['Monday', 'Tuesday', 'Wednesday', 'Thursday', 'Friday', 'Saturday', 'Sunday']\n",
    "crimes_per_day = pd.DataFrame({'Count': crimes['DAY_OF_WEEK'].value_counts().loc[labels]})\n",
    "crimes_per_day"
   ]
  },
  {
   "cell_type": "code",
   "execution_count": null,
   "metadata": {},
   "outputs": [],
   "source": [
    "plt.figure(figsize = (12,8))\n",
    "sns.barplot(x = crimes_per_day.index, y = 'Count', data = crimes_per_day)\n",
    "plt.ylabel(None)\n",
    "plt.xlabel(None)\n",
    "plt.yticks(np.arange(10000, 55000, 10000))\n",
    "plt.tick_params(labelsize = 12)\n",
    "plt.title('Boston crimes per day', fontsize = 16)\n",
    "plt.tight_layout()"
   ]
  },
  {
   "cell_type": "markdown",
   "metadata": {},
   "source": [
    "peak on Friday and through on Sunday"
   ]
  },
  {
   "cell_type": "markdown",
   "metadata": {},
   "source": [
    "* How many crimes per month/year?"
   ]
  },
  {
   "cell_type": "markdown",
   "metadata": {},
   "source": [
    "As shown below, this dataset contains crimes reported between 06/2015 and 09/2018. Therefore, for this question I will use data collected in 2016 and 2017."
   ]
  },
  {
   "cell_type": "code",
   "execution_count": null,
   "metadata": {},
   "outputs": [],
   "source": [
    "print(crimes.OCCURRED_ON_DATE.min())\n",
    "print(crimes.OCCURRED_ON_DATE.max())"
   ]
  },
  {
   "cell_type": "code",
   "execution_count": null,
   "metadata": {},
   "outputs": [],
   "source": [
    "crimes_2016_2017 = crimes[crimes['YEAR'].isin(['2016', '2017'])]\n",
    "months = ['January', 'February', 'March', 'April', 'May', 'June', 'July', 'August', 'September', 'October', 'November', 'December']\n",
    "crimes_per_month = pd.DataFrame({'Count': crimes_2016_2017['MONTH'].value_counts().sort_index().values}, index = months)\n",
    "crimes_per_month"
   ]
  },
  {
   "cell_type": "code",
   "execution_count": null,
   "metadata": {},
   "outputs": [],
   "source": [
    "plt.figure(figsize = (14, 8))\n",
    "sns.barplot(x = crimes_per_month.index, y = 'Count', data = crimes_per_month, palette = 'tab10')\n",
    "plt.ylabel(None)\n",
    "plt.xlabel(None)\n",
    "plt.yticks(np.arange(2500, 20000, 2500))\n",
    "plt.tick_params(labelsize = 12)\n",
    "plt.title('Boston crimes per month 2016 - 2017', fontsize = 16)\n",
    "plt.tight_layout()"
   ]
  },
  {
   "cell_type": "markdown",
   "metadata": {},
   "source": [
    "more crimes in summer compared to winter"
   ]
  },
  {
   "cell_type": "code",
   "execution_count": null,
   "metadata": {},
   "outputs": [],
   "source": [
    "crimes_per_year = pd.DataFrame({'Count': crimes_2016_2017['YEAR'].value_counts().sort_index()})\n",
    "crimes_per_year"
   ]
  },
  {
   "cell_type": "code",
   "execution_count": null,
   "metadata": {},
   "outputs": [],
   "source": [
    "plt.figure(figsize = (12, 8))\n",
    "sns.barplot(x = crimes_per_year.index, y = 'Count', data = crimes_per_year)\n",
    "plt.ylabel(None)\n",
    "plt.tick_params(labelsize = 12)\n",
    "plt.yticks(np.arange(20000, 120000, 20000))\n",
    "plt.title('Boston crimes per year 2016 - 2017', fontsize = 16)\n",
    "plt.tight_layout()"
   ]
  },
  {
   "cell_type": "code",
   "execution_count": null,
   "metadata": {},
   "outputs": [],
   "source": [
    "crimes_per_year['population'] = [678430, 685094] # Boston population for 2016 and 2017"
   ]
  },
  {
   "cell_type": "code",
   "execution_count": null,
   "metadata": {},
   "outputs": [],
   "source": [
    "(crimes_per_year.loc[2017].Count-crimes_per_year.loc[2016].Count)/crimes_per_year.loc[2016].Count"
   ]
  },
  {
   "cell_type": "code",
   "execution_count": null,
   "metadata": {},
   "outputs": [],
   "source": [
    "(crimes_per_year.loc[2017].population-crimes_per_year.loc[2016].population)/crimes_per_year.loc[2016].population"
   ]
  },
  {
   "cell_type": "markdown",
   "metadata": {},
   "source": [
    "population and crime rate increased by 1% and 1,8% respectively from 2016 to 2017."
   ]
  },
  {
   "cell_type": "markdown",
   "metadata": {},
   "source": [
    "**This was my first kernel. Thank you for reviewing. Please feel free to comment or advise.**"
   ]
  }
 ],
 "metadata": {
  "kernelspec": {
   "display_name": "Python 3",
   "language": "python",
   "name": "python3"
  },
  "language_info": {
   "codemirror_mode": {
    "name": "ipython",
    "version": 3
   },
   "file_extension": ".py",
   "mimetype": "text/x-python",
   "name": "python",
   "nbconvert_exporter": "python",
   "pygments_lexer": "ipython3",
   "version": "3.7.3"
  }
 },
 "nbformat": 4,
 "nbformat_minor": 4
}
